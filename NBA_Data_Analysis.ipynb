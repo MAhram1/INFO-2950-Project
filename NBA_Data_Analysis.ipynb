{
 "cells": [
  {
   "cell_type": "code",
   "execution_count": 1,
   "id": "ea9b6bfc-f36e-4ac9-808c-181645142be8",
   "metadata": {},
   "outputs": [],
   "source": [
    "## Load Libraries\n",
    "\n",
    "import numpy as np\n",
    "import pandas as pd\n",
    "import matplotlib.pyplot as plt\n",
    "from scipy import stats\n",
    "\n",
    "import seaborn as sns\n",
    "from sklearn.cluster import KMeans"
   ]
  },
  {
   "cell_type": "code",
   "execution_count": 20,
   "id": "f1d5d17b-44e3-4ef6-9dc6-50f722d3c8e6",
   "metadata": {},
   "outputs": [],
   "source": [
    "## Concatenating PBP scoring files\n",
    "pbp_sc_files = []\n",
    "for i in np.arange(1,22):\n",
    "    name = 'PBP_Files/pbpstats_export-{}.csv'.format(i)\n",
    "    file = pd.read_csv(name)\n",
    "    file['Season'] = 2022-i\n",
    "    pbp_sc_files.append(file)\n",
    "pbp_sc = pd.concat(pbp_sc_files)\n",
    "\n",
    "## Final pbp scoring csv\n",
    "pbp_sc.to_csv('pbp_sc.csv')\n",
    "#pbp_sc.head(2)"
   ]
  },
  {
   "cell_type": "code",
   "execution_count": 22,
   "id": "f03a0541-6f0c-4107-a20d-216d0c6de5b0",
   "metadata": {},
   "outputs": [],
   "source": [
    "## Concatenating PBP assist files\n",
    "pbp_as_files = []\n",
    "for i in np.arange(-42,-21):\n",
    "    name = 'PBP_Files/pbpstats_export-{}.csv'.format(-i)\n",
    "    file = pd.read_csv(name)\n",
    "    file['Season'] = 2000-21-i\n",
    "    pbp_as_files.append(file)    \n",
    "pbp_as = pd.concat(pbp_as_files)\n",
    "\n",
    "## Final pbp assist csv\n",
    "pbp_as.to_csv('pbp_as.csv')\n",
    "#pbp_as.head(2)"
   ]
  },
  {
   "cell_type": "code",
   "execution_count": 23,
   "id": "d65c4f10-17da-4695-a3a7-89d494cdb199",
   "metadata": {},
   "outputs": [],
   "source": [
    "## New PBP Files\n",
    "# pbp_sc and pbp_as"
   ]
  },
  {
   "cell_type": "code",
   "execution_count": null,
   "id": "617404e3-8098-4cf9-a69f-81666814ad89",
   "metadata": {},
   "outputs": [],
   "source": []
  }
 ],
 "metadata": {
  "kernelspec": {
   "display_name": "Python 3",
   "language": "python",
   "name": "python3"
  },
  "language_info": {
   "codemirror_mode": {
    "name": "ipython",
    "version": 3
   },
   "file_extension": ".py",
   "mimetype": "text/x-python",
   "name": "python",
   "nbconvert_exporter": "python",
   "pygments_lexer": "ipython3",
   "version": "3.8.8"
  }
 },
 "nbformat": 4,
 "nbformat_minor": 5
}
