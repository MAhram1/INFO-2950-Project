{
 "cells": [
  {
   "cell_type": "code",
   "execution_count": 1,
   "metadata": {},
   "outputs": [],
   "source": [
    "## Load Libraries\n",
    "\n",
    "import numpy as np\n",
    "import pandas as pd\n",
    "import matplotlib.pyplot as plt\n",
    "from scipy import stats\n",
    "\n",
    "import seaborn as sns\n",
    "from sklearn.cluster import KMeans"
   ]
  },
  {
   "cell_type": "code",
   "execution_count": 20,
   "metadata": {},
   "outputs": [],
   "source": [
    "## Concatenating PBP scoring files\n",
    "pbp_sc_files = []\n",
    "for i in np.arange(1,22):\n",
    "    name = 'PBP_Files/pbpstats_export-{}.csv'.format(i)\n",
    "    file = pd.read_csv(name)\n",
    "    file['Season'] = 2022-i\n",
    "    pbp_sc_files.append(file)\n",
    "pbp_sc = pd.concat(pbp_sc_files)\n",
    "\n",
    "## Final PBP scoring csv\n",
    "pbp_sc.to_csv('pbp_sc.csv')"
   ]
  },
  {
   "cell_type": "code",
   "execution_count": 22,
   "metadata": {},
   "outputs": [],
   "source": [
    "## Concatenating PBP assist files\n",
    "pbp_as_files = []\n",
    "for i in np.arange(-42,-21):\n",
    "    name = 'PBP_Files/pbpstats_export-{}.csv'.format(-i)\n",
    "    file = pd.read_csv(name)\n",
    "    file['Season'] = 2000-21-i\n",
    "    pbp_as_files.append(file)    \n",
    "pbp_as = pd.concat(pbp_as_files)\n",
    "\n",
    "## Final PBP assist csv\n",
    "pbp_as.to_csv('pbp_as.csv')"
   ]
  },
  {
   "cell_type": "code",
   "execution_count": 86,
   "metadata": {},
   "outputs": [],
   "source": [
    "## Reading in csv files\n",
    "pbp_score = pd.read_csv('pbp_sc.csv')\n",
    "pbp_assist = pd.read_csv('pbp_as.csv')\n",
    "seasonStats1950to2017 = pd.read_csv('Season_Stats_1950to2017.csv')\n",
    "seasonStats2017to2019 = pd.read_csv('Season_Stats_2017to2019.csv')\n",
    "seasonStats2019to2021 = pd.read_csv('Season_Stats_2019to2021.csv')"
   ]
  },
  {
   "cell_type": "code",
   "execution_count": 87,
   "metadata": {},
   "outputs": [],
   "source": [
    "# Drop data from before 2000-2001 season\n",
    "seasonStats2000to2017 = seasonStats1950to2017[seasonStats1950to2017['Year'] >= 2001]\n",
    "# Reset index to default so idx doesn't start at some random value\n",
    "seasonStats2000to2017 = seasonStats2000to2017.reset_index()\n",
    "# Drop some irrelevant columns\n",
    "seasonStats2000to2017 = seasonStats2000to2017.drop(['index', 'Unnamed: 0', 'blanl', 'blank2', 'Pos'], axis = 1)\n",
    "# Change the datatype of year (= season) from float64 to int\n",
    "seasonStats2000to2017 = seasonStats2000to2017.astype({'Year': int})"
   ]
  },
  {
   "cell_type": "code",
   "execution_count": 88,
   "metadata": {},
   "outputs": [],
   "source": [
    "# Add missing columns into 2019 to 2021 data\n",
    "seasonStats2019to2021['FG%'] = round(seasonStats2019to2021['FG']/seasonStats2019to2021['FGA'], 3)\n",
    "seasonStats2019to2021['2P%'] = round(seasonStats2019to2021['2P']/seasonStats2019to2021['2PA'],3)\n",
    "seasonStats2019to2021['3P%'] = round(seasonStats2019to2021['3P']/seasonStats2019to2021['3PA'],3)\n",
    "seasonStats2019to2021['FT%'] = round(seasonStats2019to2021['FT']/seasonStats2019to2021['FTA'],3)\n",
    "seasonStats2019to2021['eFG%'] = round(((seasonStats2019to2021['FG'] + (0.5*seasonStats2019to2021['3P']))/\n",
    "                                 seasonStats2019to2021['FGA']),3)\n",
    "seasonStats2019to2021['TS%'] = round(((seasonStats2019to2021['PTS'])/\n",
    "                                (2*(seasonStats2019to2021['FGA'])+(0.44*seasonStats2019to2021['FTA']))),3)"
   ]
  },
  {
   "cell_type": "code",
   "execution_count": 89,
   "metadata": {},
   "outputs": [],
   "source": [
    "# Drop extraneous columns from 2017 to 2019 and 2019 to 2021 data\n",
    "seasonStats2017to2019 = seasonStats2017to2019.drop(['ORtg','DRtg', 'Lg'], axis = 1)\n",
    "seasonStats2019to2021 = seasonStats2019to2021.drop(['ORtg','DRtg', 'Lg'], axis = 1)"
   ]
  },
  {
   "cell_type": "code",
   "execution_count": 91,
   "metadata": {},
   "outputs": [],
   "source": [
    "# Drop all rows with NaNs from 2017 to 2019 data. There are rows at the end of the 2017 to 2019 dataframe.\n",
    "seasonStats2017to2019 = seasonStats2017to2019.dropna(how = 'all')"
   ]
  },
  {
   "cell_type": "code",
   "execution_count": null,
   "metadata": {},
   "outputs": [],
   "source": []
  }
 ],
 "metadata": {
  "kernelspec": {
   "display_name": "Python 3",
   "language": "python",
   "name": "python3"
  },
  "language_info": {
   "codemirror_mode": {
    "name": "ipython",
    "version": 3
   },
   "file_extension": ".py",
   "mimetype": "text/x-python",
   "name": "python",
   "nbconvert_exporter": "python",
   "pygments_lexer": "ipython3",
   "version": "3.8.3"
  }
 },
 "nbformat": 4,
 "nbformat_minor": 5
}
