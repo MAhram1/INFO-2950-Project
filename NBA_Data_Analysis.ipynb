{
 "cells": [
  {
   "cell_type": "code",
   "execution_count": 1,
   "id": "ca4f107e",
   "metadata": {},
   "outputs": [],
   "source": [
    "# Load Libraries\n",
    "import numpy as np\n",
    "import pandas as pd\n",
    "import matplotlib.pyplot as plt\n",
    "from scipy import stats\n",
    "\n",
    "import seaborn as sns\n",
    "from sklearn.cluster import KMeans"
   ]
  },
  {
   "cell_type": "code",
   "execution_count": 2,
   "id": "c2c3daff",
   "metadata": {},
   "outputs": [],
   "source": [
    "# Concatenating PBP scoring files\n",
    "pbp_sc_files = []\n",
    "for i in np.arange(1,22):\n",
    "    name = 'pbpstats_export-{}.csv'.format(i)\n",
    "    file = pd.read_csv(name)\n",
    "    file['Season'] = 2022-i\n",
    "    pbp_sc_files.append(file)\n",
    "pbp_sc = pd.concat(pbp_sc_files)\n",
    "\n",
    "# Final PBP scoring csv\n",
    "pbp_sc.to_csv('pbp_sc.csv')"
   ]
  },
  {
   "cell_type": "code",
   "execution_count": 3,
   "id": "f4b8b3e1",
   "metadata": {},
   "outputs": [],
   "source": [
    "# Concatenating PBP assist files\n",
    "pbp_as_files = []\n",
    "for i in np.arange(-42,-21):\n",
    "    name = 'pbpstats_export-{}.csv'.format(-i)\n",
    "    file = pd.read_csv(name)\n",
    "    file['Season'] = 2000-21-i\n",
    "    pbp_as_files.append(file)    \n",
    "pbp_as = pd.concat(pbp_as_files)\n",
    "\n",
    "# Final PBP assist csv\n",
    "pbp_as.to_csv('pbp_as.csv')"
   ]
  },
  {
   "cell_type": "code",
   "execution_count": 4,
   "id": "2a8afee4",
   "metadata": {},
   "outputs": [],
   "source": [
    "# Reading in csv files\n",
    "pbp_score = pd.read_csv('pbp_sc.csv')\n",
    "pbp_assist = pd.read_csv('pbp_as.csv')\n",
    "seasonStats1950to2017 = pd.read_csv('Season_Stats_1950to2017.csv')\n",
    "seasonStats2017to2019 = pd.read_csv('Season_Stats_2017to2019.csv')\n",
    "seasonStats2019to2021 = pd.read_csv('Season_Stats_2019to2021.csv')"
   ]
  },
  {
   "cell_type": "code",
   "execution_count": 5,
   "id": "0dc5f093",
   "metadata": {},
   "outputs": [],
   "source": [
    "# Drop data from before 2000-2001 season\n",
    "seasonStats2000to2017 = seasonStats1950to2017[seasonStats1950to2017['Year'] >= 2001]\n",
    "# Reset index to default so idx doesn't start at some random value\n",
    "seasonStats2000to2017 = seasonStats2000to2017.reset_index()\n",
    "# Drop some irrelevant columns\n",
    "seasonStats2000to2017 = seasonStats2000to2017.drop(['index', 'Unnamed: 0', 'blanl', 'blank2', 'Pos'], axis = 1)\n",
    "# Change the datatype of year (= season) from float64 to int\n",
    "seasonStats2000to2017 = seasonStats2000to2017.astype({'Year': int})"
   ]
  },
  {
   "cell_type": "code",
   "execution_count": 6,
   "id": "b2bf55f3",
   "metadata": {},
   "outputs": [],
   "source": [
    "# Add missing columns into 2019 to 2021 data\n",
    "seasonStats2019to2021['FG%'] = round(seasonStats2019to2021['FG']/seasonStats2019to2021['FGA'], 3)\n",
    "seasonStats2019to2021['2P%'] = round(seasonStats2019to2021['2P']/seasonStats2019to2021['2PA'],3)\n",
    "seasonStats2019to2021['3P%'] = round(seasonStats2019to2021['3P']/seasonStats2019to2021['3PA'],3)\n",
    "seasonStats2019to2021['FT%'] = round(seasonStats2019to2021['FT']/seasonStats2019to2021['FTA'],3)\n",
    "seasonStats2019to2021['eFG%'] = round(((seasonStats2019to2021['FG'] + (0.5*seasonStats2019to2021['3P']))/\n",
    "                                 seasonStats2019to2021['FGA']),3)\n",
    "seasonStats2019to2021['TS%'] = round(((seasonStats2019to2021['PTS'])/\n",
    "                                (2*(seasonStats2019to2021['FGA'])+(0.44*seasonStats2019to2021['FTA']))),3)"
   ]
  },
  {
   "cell_type": "code",
   "execution_count": 7,
   "id": "8d9f095f",
   "metadata": {},
   "outputs": [],
   "source": [
    "# Drop extraneous columns from 2017 to 2019 and 2019 to 2021 data\n",
    "seasonStats2017to2019 = seasonStats2017to2019.drop(['ORtg','DRtg', 'Lg'], axis = 1)\n",
    "seasonStats2019to2021 = seasonStats2019to2021.drop(['ORtg','DRtg', 'Lg'], axis = 1)"
   ]
  },
  {
   "cell_type": "code",
   "execution_count": 8,
   "id": "193ecb2c",
   "metadata": {},
   "outputs": [],
   "source": [
    "# Drop all rows with NaNs from 2017 to 2019 data. There are rows of NaNs at the end of the 2017 to 2019 dataframe.\n",
    "seasonStats2017to2019 = seasonStats2017to2019.dropna(how = 'all')"
   ]
  },
  {
   "cell_type": "code",
   "execution_count": 9,
   "id": "821f6f09",
   "metadata": {},
   "outputs": [],
   "source": [
    "# Renaming and reordering columns across the 3 dfs\n",
    "seasonStats2000to2017 = seasonStats2000to2017.rename(columns = {'Year': 'Season'})\n",
    "cols = list(seasonStats2000to2017.columns)\n",
    "seasonStats2017to2019 = seasonStats2017to2019[cols]\n",
    "seasonStats2019to2021 = seasonStats2019to2021[cols]"
   ]
  },
  {
   "cell_type": "code",
   "execution_count": 10,
   "id": "d82a2247",
   "metadata": {},
   "outputs": [],
   "source": [
    "# Converting Season column values to be same across the 3 dfs\n",
    "for i in np.arange(len(seasonStats2017to2019)):\n",
    "    seasonStats2017to2019.loc[i,'Season'] = int(seasonStats2017to2019.loc[i,'Season'][-2:])+2000\n",
    "\n",
    "for i in np.arange(len(seasonStats2019to2021)):\n",
    "    seasonStats2019to2021.loc[i,'Season'] = int(seasonStats2019to2021.loc[i,'Season'][-2:])+2000"
   ]
  },
  {
   "cell_type": "code",
   "execution_count": 11,
   "id": "c46f1b86",
   "metadata": {},
   "outputs": [],
   "source": [
    "# Combining the 3 df into a single stathead df\n",
    "seasonStats = [seasonStats2000to2017,seasonStats2017to2019,seasonStats2019to2021]\n",
    "nba = pd.concat(seasonStats)"
   ]
  },
  {
   "cell_type": "code",
   "execution_count": 12,
   "id": "28c869c9",
   "metadata": {},
   "outputs": [],
   "source": [
    "# Cleaning Team Names\n",
    "nba = nba.rename(columns = {'tm': 'team'})\n",
    "nba.columns = [header.lower() for header in nba.columns]\n",
    "\n",
    "# Changing team names to modern abbreviations\n",
    "nba = nba.replace({'team':{\n",
    "    'CHO': 'CHA',\n",
    "    'CHH': 'CHA',\n",
    "    'BRK': 'BKN',\n",
    "    'NJN': 'BKN',\n",
    "    'VAN': 'MEM',\n",
    "    'PHO': 'PHX',\n",
    "    'NOH': 'NOP',\n",
    "    'NOK': 'NOP',\n",
    "    'SEA': 'OKC',\n",
    "}})"
   ]
  },
  {
   "cell_type": "code",
   "execution_count": 13,
   "id": "f09b0b2e",
   "metadata": {},
   "outputs": [],
   "source": [
    "## Addressing player names with accents\n",
    "names = nba.player.str.normalize('NFKD').str.encode('ascii', errors='ignore').str.decode('utf-8')\n",
    "nba.player = names"
   ]
  },
  {
   "cell_type": "code",
   "execution_count": 14,
   "id": "36166f69-9b40-4c9f-a445-5079773df5f7",
   "metadata": {},
   "outputs": [],
   "source": [
    "# Removing duplicate rows with players playing for multiple teams in one season\n",
    "# Keeping row of aggregate stats for that player for that season\n",
    "\n",
    "nba = nba.drop_duplicates(subset = ['player','season'])"
   ]
  },
  {
   "cell_type": "code",
   "execution_count": 15,
   "id": "21308967",
   "metadata": {},
   "outputs": [],
   "source": [
    "# 70% mins cutoff\n",
    "mins70 = list(nba.groupby('season').mp.quantile(q=0.3))\n",
    "all_bl = [False]*len(nba)\n",
    "year = 2001\n",
    "for i in np.arange(len(mins70)):\n",
    "    bl = np.logical_and(nba.season==year , nba.mp > mins70[i])\n",
    "    all_bl = np.logical_or(all_bl, bl)\n",
    "    year += 1"
   ]
  },
  {
   "cell_type": "code",
   "execution_count": 16,
   "id": "867951c7",
   "metadata": {},
   "outputs": [],
   "source": [
    "# Assigning final rows of df (NEED TO ADD PBP though)\n",
    "nba_filtered = nba.loc[all_bl]"
   ]
  },
  {
   "cell_type": "code",
   "execution_count": 17,
   "id": "92663890-1768-4e45-9d31-9b44ea8c02c5",
   "metadata": {},
   "outputs": [
    {
     "data": {
      "text/html": [
       "<div>\n",
       "<style scoped>\n",
       "    .dataframe tbody tr th:only-of-type {\n",
       "        vertical-align: middle;\n",
       "    }\n",
       "\n",
       "    .dataframe tbody tr th {\n",
       "        vertical-align: top;\n",
       "    }\n",
       "\n",
       "    .dataframe thead th {\n",
       "        text-align: right;\n",
       "    }\n",
       "</style>\n",
       "<table border=\"1\" class=\"dataframe\">\n",
       "  <thead>\n",
       "    <tr style=\"text-align: right;\">\n",
       "      <th></th>\n",
       "      <th>season</th>\n",
       "      <th>player</th>\n",
       "      <th>age</th>\n",
       "      <th>tm</th>\n",
       "      <th>g</th>\n",
       "      <th>gs</th>\n",
       "      <th>mp</th>\n",
       "      <th>per</th>\n",
       "      <th>ts%</th>\n",
       "      <th>3par</th>\n",
       "      <th>...</th>\n",
       "      <th>ft%</th>\n",
       "      <th>orb</th>\n",
       "      <th>drb</th>\n",
       "      <th>trb</th>\n",
       "      <th>ast</th>\n",
       "      <th>stl</th>\n",
       "      <th>blk</th>\n",
       "      <th>tov</th>\n",
       "      <th>pf</th>\n",
       "      <th>pts</th>\n",
       "    </tr>\n",
       "  </thead>\n",
       "  <tbody>\n",
       "    <tr>\n",
       "      <th>2</th>\n",
       "      <td>2001</td>\n",
       "      <td>Shareef Abdur-Rahim</td>\n",
       "      <td>24</td>\n",
       "      <td>VAN</td>\n",
       "      <td>81</td>\n",
       "      <td>81</td>\n",
       "      <td>3241</td>\n",
       "      <td>19.1</td>\n",
       "      <td>0.549</td>\n",
       "      <td>0.050</td>\n",
       "      <td>...</td>\n",
       "      <td>0.834</td>\n",
       "      <td>175</td>\n",
       "      <td>560</td>\n",
       "      <td>735</td>\n",
       "      <td>250</td>\n",
       "      <td>90</td>\n",
       "      <td>77</td>\n",
       "      <td>231</td>\n",
       "      <td>238</td>\n",
       "      <td>1663</td>\n",
       "    </tr>\n",
       "    <tr>\n",
       "      <th>4</th>\n",
       "      <td>2001</td>\n",
       "      <td>Courtney Alexander</td>\n",
       "      <td>23</td>\n",
       "      <td>TOT</td>\n",
       "      <td>65</td>\n",
       "      <td>24</td>\n",
       "      <td>1382</td>\n",
       "      <td>11.6</td>\n",
       "      <td>0.484</td>\n",
       "      <td>0.080</td>\n",
       "      <td>...</td>\n",
       "      <td>0.820</td>\n",
       "      <td>42</td>\n",
       "      <td>101</td>\n",
       "      <td>143</td>\n",
       "      <td>62</td>\n",
       "      <td>45</td>\n",
       "      <td>5</td>\n",
       "      <td>75</td>\n",
       "      <td>139</td>\n",
       "      <td>618</td>\n",
       "    </tr>\n",
       "    <tr>\n",
       "      <th>7</th>\n",
       "      <td>2001</td>\n",
       "      <td>Ray Allen</td>\n",
       "      <td>25</td>\n",
       "      <td>MIL</td>\n",
       "      <td>82</td>\n",
       "      <td>82</td>\n",
       "      <td>3129</td>\n",
       "      <td>22.9</td>\n",
       "      <td>0.610</td>\n",
       "      <td>0.357</td>\n",
       "      <td>...</td>\n",
       "      <td>0.888</td>\n",
       "      <td>101</td>\n",
       "      <td>327</td>\n",
       "      <td>428</td>\n",
       "      <td>374</td>\n",
       "      <td>124</td>\n",
       "      <td>20</td>\n",
       "      <td>204</td>\n",
       "      <td>192</td>\n",
       "      <td>1806</td>\n",
       "    </tr>\n",
       "    <tr>\n",
       "      <th>9</th>\n",
       "      <td>2001</td>\n",
       "      <td>John Amaechi</td>\n",
       "      <td>30</td>\n",
       "      <td>ORL</td>\n",
       "      <td>82</td>\n",
       "      <td>36</td>\n",
       "      <td>1710</td>\n",
       "      <td>8.7</td>\n",
       "      <td>0.455</td>\n",
       "      <td>0.012</td>\n",
       "      <td>...</td>\n",
       "      <td>0.631</td>\n",
       "      <td>77</td>\n",
       "      <td>191</td>\n",
       "      <td>268</td>\n",
       "      <td>74</td>\n",
       "      <td>28</td>\n",
       "      <td>29</td>\n",
       "      <td>124</td>\n",
       "      <td>175</td>\n",
       "      <td>650</td>\n",
       "    </tr>\n",
       "    <tr>\n",
       "      <th>10</th>\n",
       "      <td>2001</td>\n",
       "      <td>Derek Anderson</td>\n",
       "      <td>26</td>\n",
       "      <td>SAS</td>\n",
       "      <td>82</td>\n",
       "      <td>82</td>\n",
       "      <td>2859</td>\n",
       "      <td>17.1</td>\n",
       "      <td>0.542</td>\n",
       "      <td>0.255</td>\n",
       "      <td>...</td>\n",
       "      <td>0.851</td>\n",
       "      <td>75</td>\n",
       "      <td>288</td>\n",
       "      <td>363</td>\n",
       "      <td>301</td>\n",
       "      <td>120</td>\n",
       "      <td>14</td>\n",
       "      <td>165</td>\n",
       "      <td>188</td>\n",
       "      <td>1269</td>\n",
       "    </tr>\n",
       "  </tbody>\n",
       "</table>\n",
       "<p>5 rows × 49 columns</p>\n",
       "</div>"
      ],
      "text/plain": [
       "    season               player  age   tm   g  gs    mp   per    ts%   3par  \\\n",
       "2     2001  Shareef Abdur-Rahim   24  VAN  81  81  3241  19.1  0.549  0.050   \n",
       "4     2001   Courtney Alexander   23  TOT  65  24  1382  11.6  0.484  0.080   \n",
       "7     2001            Ray Allen   25  MIL  82  82  3129  22.9  0.610  0.357   \n",
       "9     2001         John Amaechi   30  ORL  82  36  1710   8.7  0.455  0.012   \n",
       "10    2001       Derek Anderson   26  SAS  82  82  2859  17.1  0.542  0.255   \n",
       "\n",
       "    ...    ft%  orb  drb  trb  ast  stl  blk  tov   pf   pts  \n",
       "2   ...  0.834  175  560  735  250   90   77  231  238  1663  \n",
       "4   ...  0.820   42  101  143   62   45    5   75  139   618  \n",
       "7   ...  0.888  101  327  428  374  124   20  204  192  1806  \n",
       "9   ...  0.631   77  191  268   74   28   29  124  175   650  \n",
       "10  ...  0.851   75  288  363  301  120   14  165  188  1269  \n",
       "\n",
       "[5 rows x 49 columns]"
      ]
     },
     "execution_count": 17,
     "metadata": {},
     "output_type": "execute_result"
    }
   ],
   "source": [
    "# Change datatypes of certain columns to match their true type\n",
    "nba_filtered = nba_filtered.astype({'season': int, 'age': int, 'g': int, 'gs': int, 'mp': int, 'fg': int, 'fga': int,\n",
    "                                  '3p': int, '3pa': int, '2p': int, '2pa': int, 'ft': int, 'fta': int, 'orb': int,\n",
    "                                  'drb': int, 'trb': int, 'ast': int, 'stl': int, 'blk': int, 'tov': int, 'pf': int,\n",
    "                                  'pts': int})\n",
    "nba_filtered.head()"
   ]
  },
  {
   "cell_type": "code",
   "execution_count": 18,
   "id": "8d5ae905",
   "metadata": {},
   "outputs": [],
   "source": [
    "# Need to make decision about which cols to keep\n",
    "#list(nba_filtered.columns)"
   ]
  },
  {
   "cell_type": "code",
   "execution_count": 19,
   "id": "595a8ee7",
   "metadata": {},
   "outputs": [],
   "source": [
    "# Drop some irrelevant, unnecessary, and/or redundant columns from PBP data\n",
    "pbp_score = pbp_score.drop(['Unnamed: 0', 'TeamAbbreviation', 'GamesPlayed', 'Minutes', 'Points','FG2M', 'FG2A',\n",
    "                            'Fg2Pct', 'FG3M', 'FG3A', 'Fg3Pct', 'FG3APct','EfgPct', 'TsPct','Usage'], axis = 1)\n",
    "pbp_assist = pbp_assist.drop(['Unnamed: 0', 'TeamAbbreviation', 'GamesPlayed', 'Minutes', 'Assists'], axis = 1)"
   ]
  },
  {
   "cell_type": "code",
   "execution_count": 20,
   "id": "cb232658",
   "metadata": {},
   "outputs": [],
   "source": [
    "# Tidying up columns in PBP data\n",
    "pbp_score.columns = [header.lower() for header in pbp_score.columns]\n",
    "pbp_assist.columns = [header.lower() for header in pbp_assist.columns]"
   ]
  },
  {
   "cell_type": "code",
   "execution_count": null,
   "id": "b05d9910-d244-4d0a-ac32-2ca0704aa51e",
   "metadata": {},
   "outputs": [],
   "source": []
  }
 ],
 "metadata": {
  "kernelspec": {
   "display_name": "Python 3",
   "language": "python",
   "name": "python3"
  },
  "language_info": {
   "codemirror_mode": {
    "name": "ipython",
    "version": 3
   },
   "file_extension": ".py",
   "mimetype": "text/x-python",
   "name": "python",
   "nbconvert_exporter": "python",
   "pygments_lexer": "ipython3",
   "version": "3.8.8"
  }
 },
 "nbformat": 4,
 "nbformat_minor": 5
}
